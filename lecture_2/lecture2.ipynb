{
 "cells": [
  {
   "cell_type": "markdown",
   "id": "494f474c",
   "metadata": {},
   "source": [
    "These are the various functions encounterred so far in this bootcamp\n",
    "\n",
    "\n",
    "* cv::imread: This function is used to read an image from a file. It takes the file path as its first argument and an optional second argument specifying the format in which to read the image. Here, the image is loaded in the BGR 8-bit format by default.\n",
    "\n",
    "    Python equivalent: cv.imread()\n",
    "\n",
    "    Example:\n",
    "    import cv2 as cv\n",
    "\n",
    "    # Read an image\n",
    "    img = cv.imread('starry_night.jpg')\n",
    "\n",
    "\n",
    "* cv::imshow: This function is used to display an image in an OpenCV window. It takes the title of the window as its first argument and the image (stored as a cv::Mat object) as its second argument.\n",
    "\n",
    "    Python equivalent: cv.imshow()\n",
    "\n",
    "    Example:\n",
    "    import cv2 as cv\n",
    "\n",
    "    # Display the image in a window titled 'image'\n",
    "    cv.imshow('image', img)\n",
    "\n",
    "\n",
    "*cv::waitKey: This function is used to wait for a keyboard event for a specified amount of time. It takes the time to wait (in milliseconds) as its only parameter. Zero means to wait forever. The return value is the key that was pressed.\n",
    "\n",
    "    Python equivalent: cv.waitKey()\n",
    "\n",
    "    Example:\n",
    "    import cv2 as cv\n",
    "\n",
    "    # Wait for a key press for 0 milliseconds (wait indefinitely)\n",
    "    key = cv.waitKey(0)\n",
    "\n",
    "\n",
    "*cv::imwrite: This function is used to write an image to a file. It takes the file path as its first argument and the image (stored as a cv::Mat object) as its second argument.\n",
    "\n",
    "    Python equivalent: cv.imwrite()\n",
    "\n",
    "    Example:\n",
    "    import cv2 as cv\n",
    "\n",
    "    # Write the image to a file named 'output.jpg'\n",
    "    cv.imwrite('output.jpg', img)\n",
    "\n",
    "\n",
    "*cv.VideoCapture(): This function is used to capture video either from a camera (by specifying the device index) or from a video file (by specifying the file path). It returns a VideoCapture object.\n",
    "\n",
    "    Python equivalent: cv.VideoCapture()\n",
    "\n",
    "    Example:\n",
    "    import cv2 as cv\n",
    "\n",
    "    # Capture video from camera (device index 0)\n",
    "    cap = cv.VideoCapture(0)\n",
    "\n",
    "    # Capture video from a file\n",
    "    cap = cv.VideoCapture('video.mp4')\n",
    "\n",
    "\n",
    "*cv.VideoWriter(): This function is used to create a VideoWriter object for saving video to a file. It takes the output file name, FourCC codec, frames per second (fps), frame size, and isColor flag as arguments.\n",
    "\n",
    "    Python equivalent: cv.VideoWriter()\n",
    "\n",
    "    Example:\n",
    "    import cv2 as cv\n",
    "\n",
    "    # Define codec and create VideoWriter object\n",
    "    fourcc = cv.VideoWriter_fourcc(*'XVID')\n",
    "    out = cv.VideoWriter('output.avi', fourcc, 20.0, (640, 480))\n",
    "\n",
    "\n",
    "*cv.VideoCapture::read(): This method reads the next frame from the video capture object and returns a tuple containing a boolean indicating whether the frame was successfully read (True or False) and the frame itself.\n",
    "\n",
    "    Python equivalent: cv.VideoCapture.read()\n",
    "\n",
    "    Example:\n",
    "    ret, frame = cap.read()\n",
    "    cv.cvtColor(): This function is used to convert the color space of an image. Here, it is used to convert the captured frame to grayscale.\n",
    "\n",
    "    Python equivalent: cv.cvtColor()\n",
    "\n",
    "    Example:\n",
    "\n",
    "    python\n",
    "    Copy code\n",
    "    gray = cv.cvtColor(frame, cv.COLOR_BGR2GRAY)\n",
    "\n",
    "\n",
    "*cv.flip(): This function is used to flip the image vertically, horizontally, or both. Here, it is used to flip each frame vertically.\n",
    "\n",
    "    Python equivalent: cv.flip()\n",
    "\n",
    "    Example:\n",
    "    frame = cv.flip(frame, 0)  # Vertical flip\n",
    "\n",
    "\n",
    "*cv.imshow(): This function is used to display an image or a video frame in a window.\n",
    "\n",
    "    Python equivalent: cv.imshow()\n",
    "\n",
    "    Example:\n",
    "    cv.imshow('frame', frame)\n",
    "\n",
    "\n",
    "*cv.waitKey(): This function waits for a key press for a specified amount of time. It returns the ASCII value of the pressed key.\n",
    "\n",
    "    Python equivalent: cv.waitKey()\n",
    "\n",
    "    Example:\n",
    "    if cv.waitKey(1) == ord('q'):\n",
    "        break\n",
    "\n",
    "\n",
    "*cv.VideoWriter::write(): This method writes a frame to the video file specified by the VideoWriter object.\n",
    "\n",
    "    Python equivalent: cv.VideoWriter.write()\n",
    "\n",
    "    Example:\n",
    "    out.write(frame)"
   ]
  },
  {
   "cell_type": "code",
   "execution_count": 1,
   "id": "b4b2a912",
   "metadata": {},
   "outputs": [
    {
     "name": "stdout",
     "output_type": "stream",
     "text": [
      "File exists.\n"
     ]
    }
   ],
   "source": [
    "import os\n",
    "\n",
    "file_path = \"bgr.mp4\"  # Replace this with the actual file path\n",
    "\n",
    "if os.path.exists(file_path):\n",
    "    print(\"File exists.\")\n",
    "else:\n",
    "    print(\"File does not exist.\")\n"
   ]
  },
  {
   "cell_type": "code",
   "execution_count": 2,
   "id": "99f7f1a3",
   "metadata": {},
   "outputs": [
    {
     "ename": "KeyboardInterrupt",
     "evalue": "",
     "output_type": "error",
     "traceback": [
      "\u001b[1;31m---------------------------------------------------------------------------\u001b[0m",
      "\u001b[1;31mKeyboardInterrupt\u001b[0m                         Traceback (most recent call last)",
      "Cell \u001b[1;32mIn[2], line 13\u001b[0m\n\u001b[0;32m     10\u001b[0m ret, frame  \u001b[38;5;241m=\u001b[39m cap\u001b[38;5;241m.\u001b[39mread()\n\u001b[0;32m     12\u001b[0m \u001b[38;5;28;01mif\u001b[39;00m \u001b[38;5;129;01mnot\u001b[39;00m ret:\n\u001b[1;32m---> 13\u001b[0m     cap \u001b[38;5;241m=\u001b[39m cv\u001b[38;5;241m.\u001b[39mVideoCapture(\u001b[38;5;124m\"\u001b[39m\u001b[38;5;124mcomputer-vision-bootcamp/assignment1/bgr.mp4\u001b[39m\u001b[38;5;124m\"\u001b[39m)\n\u001b[0;32m     14\u001b[0m     \u001b[38;5;28;01mcontinue\u001b[39;00m\n\u001b[0;32m     16\u001b[0m frame \u001b[38;5;241m=\u001b[39m cv\u001b[38;5;241m.\u001b[39mresize(frame,(\u001b[38;5;241m400\u001b[39m,\u001b[38;5;241m200\u001b[39m))\n",
      "\u001b[1;31mKeyboardInterrupt\u001b[0m: "
     ]
    }
   ],
   "source": [
    "import cv2 as cv \n",
    "\n",
    "\n",
    "cap = cv.VideoCapture(\"bgr.mp4\")\n",
    "\n",
    "fourcc = cv.VideoWriter_fourcc(*'mp4v')\n",
    "output = cv.VideoWriter('computer-vision-bootcamp/lecture2/out.mp4',fourcc,30,(400,200))\n",
    "\n",
    "while cap.isOpened:\n",
    "    ret, frame  = cap.read()\n",
    "\n",
    "    if not ret:\n",
    "        cap = cv.VideoCapture(\"computer-vision-bootcamp/assignment1/bgr.mp4\")\n",
    "        continue\n",
    "\n",
    "    frame = cv.resize(frame,(400,200))\n",
    "    vid_Gray = cv.cvtColor(frame,cv.COLOR_BGR2GRAY)\n",
    "    blur_Vid = cv.GaussianBlur(frame,(9,9),0)\n",
    "    vidBlur = cv.blur(frame,(7,7))\n",
    "    _,thresh_frame = cv.threshold(vid_Gray,50,150,cv.THRESH_BINARY)\n",
    "    \n",
    "\n",
    "\n",
    "    output.write(blur_Vid)\n",
    "\n",
    "    cv.imshow('frame',frame)\n",
    "    cv.imshow('frame_GRAY',vid_Gray)\n",
    "    cv.imshow('frame_BLUR',vidBlur)\n",
    "    cv.imshow('frame_THRESH',thresh_frame)\n",
    "    cv.imshow('frame',frame)\n",
    "\n",
    "    k = cv.waitKey(1) & 0xFF\n",
    "\n",
    "    if k == 27:\n",
    "        break\n",
    "\n",
    "cap.release()\n",
    "output.release()\n",
    "cv.destroyAllWindows()"
   ]
  },
  {
   "cell_type": "code",
   "execution_count": 18,
   "id": "b0acf213",
   "metadata": {},
   "outputs": [
    {
     "name": "stdout",
     "output_type": "stream",
     "text": [
      "[[0, 0, 0, 0, 0, 1], [1, 1, 1, 1, 1, 1], [1, 1, 1, 1, 0, 0], [0, 0, 1, 0, 1, 0], [0, 1, 1, 0, 1, 1], [0, 0, 0, 1, 1, 1]]\n"
     ]
    }
   ],
   "source": [
    "arr = [[0,0,0,0,0,1],[1,1,1,1,1,1],[1,1,1,1,0,0],[0,0,1,0,1,0],[0,1,1,0,1,1],[0,0,0,1,1,1]]\n",
    "print(arr)"
   ]
  },
  {
   "cell_type": "code",
   "execution_count": 26,
   "id": "8e4ca879",
   "metadata": {},
   "outputs": [
    {
     "data": {
      "text/plain": [
       "[0, 0, 0]"
      ]
     },
     "execution_count": 26,
     "metadata": {},
     "output_type": "execute_result"
    }
   ],
   "source": [
    "arr[1][ + 3]"
   ]
  },
  {
   "cell_type": "code",
   "execution_count": 29,
   "id": "9230bbd6",
   "metadata": {},
   "outputs": [
    {
     "name": "stdout",
     "output_type": "stream",
     "text": [
      "6\n"
     ]
    }
   ],
   "source": [
    "hr_glass = []\n",
    "for i in range(len(arr)-2):\n",
    "    for j in range(len(arr[i])-2):\n",
    "        \n",
    "        hr_glass.append(sum(arr[i][j:j +3]) + arr[i+1][j+1] + sum(arr[i+2][j:j +3]))\n",
    "    \n",
    "print(max(hr_glass))"
   ]
  },
  {
   "cell_type": "code",
   "execution_count": null,
   "id": "9696accb",
   "metadata": {},
   "outputs": [],
   "source": []
  }
 ],
 "metadata": {
  "hide_input": false,
  "kernelspec": {
   "display_name": "Python 3 (ipykernel)",
   "language": "python",
   "name": "python3"
  },
  "language_info": {
   "codemirror_mode": {
    "name": "ipython",
    "version": 3
   },
   "file_extension": ".py",
   "mimetype": "text/x-python",
   "name": "python",
   "nbconvert_exporter": "python",
   "pygments_lexer": "ipython3",
   "version": "3.11.5"
  }
 },
 "nbformat": 4,
 "nbformat_minor": 5
}
