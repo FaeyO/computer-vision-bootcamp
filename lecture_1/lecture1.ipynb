{
 "cells": [
  {
   "cell_type": "code",
   "execution_count": 1,
   "id": "b18182ba",
   "metadata": {},
   "outputs": [],
   "source": [
    "#!pip install opencv-python"
   ]
  },
  {
   "cell_type": "code",
   "execution_count": 1,
   "id": "63f68660",
   "metadata": {},
   "outputs": [
    {
     "name": "stdout",
     "output_type": "stream",
     "text": [
      "File exists.\n"
     ]
    }
   ],
   "source": [
    "import os\n",
    "\n",
    "file_path = \"image.jpg\"  # Replace this with the actual file path\n",
    "\n",
    "if os.path.exists(file_path):\n",
    "    print(\"File exists.\")\n",
    "else:\n",
    "    print(\"File does not exist.\")\n"
   ]
  },
  {
   "cell_type": "code",
   "execution_count": 2,
   "id": "abfa3fbe",
   "metadata": {},
   "outputs": [],
   "source": [
    "import cv2\n",
    "\n",
    "\n",
    "def save_and_display_image(image_name, processed_image):\n",
    "    # cv2.imwrite(\"computer-vision-bootcamp/image-processing/\"+image_name + \".jpg\", processed_image)\n",
    "    # This saves our processed image to file.\n",
    "    cv2.imshow(image_name + \" window\", processed_image)\n",
    "    # This will open a window on our pc to display our image.\n",
    "\n",
    "#\"http://localhost:8888/view/Desktop/computer%20vision%20bootcamp/lecture_1/image.jpg\"\n",
    "image = cv2.imread(\"image.jpg\")\n",
    "assert image is not None, \"file could not be read, check with os.path.exists()\"\n",
    "# This will open the image at the provided path in a numpy format which is how the computer is able to read and\n",
    "# modify the image.\n",
    "cv2.imshow(\"original_image\", image)\n",
    "# This will open a window on our pc to display our image.\n",
    "\n",
    "resized_image = cv2.resize(image, (200, 200))\n",
    "# This will resize the opened image to the given size.\n",
    "save_and_display_image(\"resized_image\", resized_image)\n",
    "\n",
    "gray_scale_image = cv2.cvtColor(resized_image, cv2.COLOR_BGR2GRAY)\n",
    "# This will convert our colored image to a gray scale image.\n",
    "save_and_display_image(\"resized_image\", resized_image)\n",
    "\n",
    "edged_image = cv2.Canny(gray_scale_image, 100, 200)\n",
    "# This removes all other parts of the image leaving only the edges of objects in the image\n",
    "save_and_display_image(\"edged_image\", edged_image)\n",
    "\n",
    "blurred_image = cv2.GaussianBlur(gray_scale_image, (9, 9), 0)\n",
    "# This blurs out our image using the provided ksize. the higher the odd number value the blurrier the produced image.\n",
    "save_and_display_image(\"blurred_image\", blurred_image)\n",
    "\n",
    "_, threshold_image = cv2.threshold(gray_scale_image, 125, 255, 0)\n",
    "# Thresholding creates a binary image from grayscale images.\n",
    "# The idea is to separate an image into regions of interest based on pixel intensity values.\n",
    "save_and_display_image(\"threshold_image\", threshold_image)\n",
    "\n",
    "cv2.waitKey(0)\n",
    "# waitKey provides a delay value for the displayed image, so it remains on screen till we press a button.\n",
    "\n",
    "cv2.destroyAllWindows()\n",
    "# Close all  windows opened by cv2"
   ]
  },
  {
   "cell_type": "markdown",
   "id": "a5c6d4d9",
   "metadata": {},
   "source": []
  }
 ],
 "metadata": {
  "hide_input": false,
  "kernelspec": {
   "display_name": "Python 3 (ipykernel)",
   "language": "python",
   "name": "python3"
  },
  "language_info": {
   "codemirror_mode": {
    "name": "ipython",
    "version": 3
   },
   "file_extension": ".py",
   "mimetype": "text/x-python",
   "name": "python",
   "nbconvert_exporter": "python",
   "pygments_lexer": "ipython3",
   "version": "3.11.5"
  }
 },
 "nbformat": 4,
 "nbformat_minor": 5
}
